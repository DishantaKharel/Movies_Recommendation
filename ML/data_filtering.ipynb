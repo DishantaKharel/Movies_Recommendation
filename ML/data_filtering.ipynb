{
 "cells": [
  {
   "cell_type": "code",
   "execution_count": 12,
   "id": "0327d2bb-6dad-4019-9815-5573b3b6adee",
   "metadata": {},
   "outputs": [],
   "source": [
    "import pandas as pd"
   ]
  },
  {
   "cell_type": "code",
   "execution_count": 13,
   "id": "5abf0818-a884-483e-bcd9-272d9beaf228",
   "metadata": {},
   "outputs": [],
   "source": [
    "df = pd.read_parquet(\"movies_dataset.parquet\")"
   ]
  },
  {
   "cell_type": "code",
   "execution_count": 14,
   "id": "34b3a528-0276-407c-8c12-2b62e1e8ed2c",
   "metadata": {},
   "outputs": [],
   "source": [
    "df['genres_list'] = df['genres'].str.split('-')\n",
    "df['keywords_list'] = df['keywords'].str.split('-')"
   ]
  },
  {
   "cell_type": "code",
   "execution_count": 15,
   "id": "0e87e131-416f-4e0c-abd5-173f6daf8a8c",
   "metadata": {},
   "outputs": [],
   "source": [
    "# Safer approach to handle potential non-list items\n",
    "def safe_join(x):\n",
    "    if isinstance(x, list):\n",
    "        return ' '.join(x)\n",
    "    elif isinstance(x, str):\n",
    "        return x\n",
    "    else:\n",
    "        return ''"
   ]
  },
  {
   "cell_type": "code",
   "execution_count": 16,
   "id": "3734a487-e416-43d4-bd36-eecf0adfcbb3",
   "metadata": {},
   "outputs": [],
   "source": [
    "df['genres_cleaned'] = df['genres_list'].apply(safe_join)\n",
    "df['keywords_cleaned'] = df['keywords_list'].apply(safe_join)"
   ]
  },
  {
   "cell_type": "code",
   "execution_count": 17,
   "id": "aaf052da-dca6-4531-9ab3-4bc11a6ef36f",
   "metadata": {},
   "outputs": [],
   "source": [
    "df['overview'] = df['overview'].fillna('')\n",
    "df['tagline'] = df['tagline'].fillna('')\n",
    "df['keywords_cleaned'] = df['keywords_cleaned'].fillna('')\n",
    "df['genres_cleaned'] = df['genres_cleaned'].fillna('')\n",
    "df['vote_average'] = df['vote_average'].fillna('0')"
   ]
  },
  {
   "cell_type": "code",
   "execution_count": 20,
   "id": "505b3e0f-9d42-40ce-b38b-9a843079d7f7",
   "metadata": {},
   "outputs": [],
   "source": [
    "df['combined_features']=(df['overview']+' '+ df['tagline']+' '+ df['keywords_cleaned']+' '+ df['genres_cleaned'])"
   ]
  },
  {
   "cell_type": "code",
   "execution_count": 26,
   "id": "3ac5955e-3d0b-4505-8779-9678d4db7dbe",
   "metadata": {},
   "outputs": [
    {
     "name": "stdout",
     "output_type": "stream",
     "text": [
      "2891184\n",
      "          id                              title  vote_average  \\\n",
      "0     385687                             Fast X         7.331   \n",
      "1     758323                The Pope's Exorcist         7.433   \n",
      "2     640146  Ant-Man and the Wasp: Quantumania         6.507   \n",
      "3     677179                          Creed III         7.262   \n",
      "4     502356        The Super Mario Bros. Movie         7.764   \n",
      "...      ...                                ...           ...   \n",
      "4995  881764                   Girls From Dubai         6.457   \n",
      "4996     279                            Amadeus         8.000   \n",
      "4997    9800                       Philadelphia         7.700   \n",
      "4998   43959                        Soul Surfer         7.000   \n",
      "4999  414145                       Lo siniestro         3.500   \n",
      "\n",
      "                                      combined_features  \n",
      "0     Over many missions and against impossible odds...  \n",
      "1     Father Gabriele Amorth Chief Exorcist of the V...  \n",
      "2     Super-Hero partners Scott Lang and Hope van Dy...  \n",
      "3     After dominating the boxing world Adonis Creed...  \n",
      "4     While working underground to fix a water main ...  \n",
      "...                                                 ...  \n",
      "4995  Based on a true story Emi — a young ambitious ...  \n",
      "4996  Wolfgang Amadeus Mozart is a remarkably talent...  \n",
      "4997  Two competing lawyers join forces to sue a pre...  \n",
      "4998  The true story of teen surfer Bethany Hamilton...  \n",
      "4999                                             Horror  \n",
      "\n",
      "[5000 rows x 4 columns]\n"
     ]
    }
   ],
   "source": [
    "train_data= df[['id', 'title','vote_average','combined_features']]\n",
    "print(train_data.size)\n",
    "data_cutting = train_data.head(5000)\n",
    "print(data_cutting)\n",
    "data_cutting.to_parquet(\"small_dataset.parquet\")\n"
   ]
  },
  {
   "cell_type": "code",
   "execution_count": null,
   "id": "18402a77-2aa1-46d7-afc3-10f3ee643d5c",
   "metadata": {},
   "outputs": [],
   "source": []
  }
 ],
 "metadata": {
  "kernelspec": {
   "display_name": "Python 3 (ipykernel)",
   "language": "python",
   "name": "python3"
  },
  "language_info": {
   "codemirror_mode": {
    "name": "ipython",
    "version": 3
   },
   "file_extension": ".py",
   "mimetype": "text/x-python",
   "name": "python",
   "nbconvert_exporter": "python",
   "pygments_lexer": "ipython3",
   "version": "3.11.9"
  }
 },
 "nbformat": 4,
 "nbformat_minor": 5
}
