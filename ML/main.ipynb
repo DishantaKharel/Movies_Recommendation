{
 "cells": [
  {
   "cell_type": "code",
   "execution_count": 208,
   "id": "c163b55c-145d-4289-8df3-b589d34c946d",
   "metadata": {},
   "outputs": [],
   "source": [
    "import pandas as pd"
   ]
  },
  {
   "cell_type": "code",
   "execution_count": 215,
   "id": "71c37676-8d61-4dcd-ae6c-8543b86547cf",
   "metadata": {},
   "outputs": [],
   "source": [
    "data = pd.read_parquet(\"small_dataset.parquet\")"
   ]
  },
  {
   "cell_type": "code",
   "execution_count": 313,
   "id": "a8664687-a097-46c4-bbcb-96fa485bb649",
   "metadata": {},
   "outputs": [],
   "source": [
    "import numpy as np\n",
    "import time\n",
    "from sklearn.feature_extraction.text import TfidfVectorizer\n",
    "from sklearn.metrics.pairwise import cosine_similarity\n",
    "from sklearn.pipeline import Pipeline\n",
    "import joblib\n",
    "import os"
   ]
  },
  {
   "cell_type": "code",
   "execution_count": 314,
   "id": "7898fe5d-2ded-48c7-92c4-3f6b478d0d69",
   "metadata": {},
   "outputs": [],
   "source": [
    "def build_recommendations_model(data):\n",
    "\n",
    "    try:\n",
    "        start_time = time.time()\n",
    "        print(\"Building recommendation model...\")\n",
    "\n",
    "        os.makedirs('models', exist_ok=True)\n",
    "    \n",
    "        #Removes common English words like \"the,\" \"and,\" \"is\" \n",
    "        tfidf = TfidfVectorizer(stop_words='english')\n",
    "    \n",
    "        tfidf_matrix = tfidf.fit_transform(data['combined_features'])\n",
    "    \n",
    "        joblib.dump(tfidf,'models/tfidf_vectorizer.joblib')\n",
    "    \n",
    "        indices = pd.Series(data.index,index=data['title'].str.lower()).drop_duplicates()\n",
    "    \n",
    "        joblib.dump(indices,'models/indices_mapping.joblib')\n",
    "    \n",
    "        print(\"Computing cosine similarity matrix...\")\n",
    "        cosine_sim = cosine_similarity(tfidf_matrix, tfidf_matrix)\n",
    "    \n",
    "        # Save the similarity matrix\n",
    "        print(\"Saving model files...\")\n",
    "        joblib.dump(cosine_sim, 'models/cosine_sim_matrix.joblib')\n",
    "    \n",
    "        print(f\"Model building completed in {time.time() - start_time:.2f} seconds\")\n",
    "    \n",
    "        load_recommendation_model()\n",
    "\n",
    "        return cosine_sim, indices\n",
    "        \n",
    "    except Exception as e:\n",
    "        print(f\"Error building model: {e}\")\n",
    "        return None, None, None"
   ]
  },
  {
   "cell_type": "code",
   "execution_count": 315,
   "id": "da055314-9d55-4794-b4c9-492cfe0ff8f4",
   "metadata": {},
   "outputs": [],
   "source": [
    "def load_recommendation_model():\n",
    "\n",
    "    # Load the movie data\n",
    "    data = pd.read_parquet('small_dataset.parquet')\n",
    "    \n",
    "    try:\n",
    "        \n",
    "        # Load the similarity matrix\n",
    "        cosine_sim = joblib.load('models/cosine_sim_matrix.joblib')\n",
    "\n",
    "         # Load the indices mapping\n",
    "        indices = joblib.load('models/indices_mapping.joblib')\n",
    "\n",
    "        return cosine_sim, indices, data\n",
    "\n",
    "    except FileNotFoundError:\n",
    "        \n",
    "        print(\"Model files not found. Building model...\")\n",
    "        return build_recommendations_model(data)\n",
    "        "
   ]
  },
  {
   "cell_type": "code",
   "execution_count": 328,
   "id": "b5567e8d-012b-4fc0-bcde-aad7764e9dd0",
   "metadata": {},
   "outputs": [],
   "source": [
    "def get_recommendations(title, top_n=5):\n",
    "\n",
    "    cosine_sim,indices,data = load_recommendation_model()\n",
    "\n",
    "     # Check if any component is missing\n",
    "    if cosine_sim is None or indices is None or movie_data is None:\n",
    "        return (\"Model not found. Please build the model first.\")\n",
    "\n",
    "    title = title.lower()\n",
    "\n",
    "    if title not in indices:\n",
    "        print(f\"Movie '{title}' not found in the database!! Sorry for the inconvenience\\nHere are other top movies you can enjoy :)\")\n",
    "\n",
    "        # Return popular movies as fallback\n",
    "        return data.sort_values('vote_average', ascending=False)['title'].head(top_n)\n",
    "    \n",
    "    index = indices[title]\n",
    "\n",
    "    sim_scores= list(enumerate(cosine_sim[index]))\n",
    "\n",
    "    sim_scores = sorted(sim_scores,key=lambda x:x[1],reverse=True)\n",
    "\n",
    "    sim_scores = sim_scores[1:11]\n",
    "\n",
    "    movies_indices = [i[0] for i in sim_scores]\n",
    "\n",
    "    return data['title'].iloc[movies_indices]"
   ]
  },
  {
   "cell_type": "code",
   "execution_count": 329,
   "id": "9d4995d1-b7e2-4e54-a132-8378e13f27d0",
   "metadata": {},
   "outputs": [],
   "source": [
    "def main(movie):\n",
    "\n",
    "    try:\n",
    "        print(f\"\\nRecommendations for movie '{movie}': \")\n",
    "        recommendations = get_recommendations(movie,top_n=5)\n",
    "        print(recommendations)\n",
    "\n",
    "        \n",
    "           \n",
    "    except Exception as e:\n",
    "        print(f\"Error getting recommendations for '{movie}': {e}\")"
   ]
  },
  {
   "cell_type": "code",
   "execution_count": 333,
   "id": "295aec38-8e96-4e4b-8fdc-268f3a249b5b",
   "metadata": {},
   "outputs": [
    {
     "name": "stdout",
     "output_type": "stream",
     "text": [
      "\n",
      "Recommendations for movie 'Inception': \n",
      "8914                                         The Cell\n",
      "7213                             The Thirteenth Floor\n",
      "16517                                  The Good Night\n",
      "8025     The Human Mind Is A Beautiful Place at Night\n",
      "24071                              Virtual Revolution\n",
      "13694                                          Cypher\n",
      "10691                        Inception: The Cobol Job\n",
      "8282                                         Altitude\n",
      "883                                        The Matrix\n",
      "11805                                      Homunculus\n",
      "Name: title, dtype: object\n"
     ]
    }
   ],
   "source": [
    "main(\"Inception\")"
   ]
  },
  {
   "cell_type": "code",
   "execution_count": null,
   "id": "0c2a7dab-d35a-4b98-86a5-7ada35d3b356",
   "metadata": {},
   "outputs": [],
   "source": []
  },
  {
   "cell_type": "code",
   "execution_count": null,
   "id": "41fd9901-14e2-47be-af5e-387270f16564",
   "metadata": {},
   "outputs": [],
   "source": []
  }
 ],
 "metadata": {
  "kernelspec": {
   "display_name": "Python 3 (ipykernel)",
   "language": "python",
   "name": "python3"
  },
  "language_info": {
   "codemirror_mode": {
    "name": "ipython",
    "version": 3
   },
   "file_extension": ".py",
   "mimetype": "text/x-python",
   "name": "python",
   "nbconvert_exporter": "python",
   "pygments_lexer": "ipython3",
   "version": "3.11.9"
  }
 },
 "nbformat": 4,
 "nbformat_minor": 5
}
